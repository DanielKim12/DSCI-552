{
 "cells": [
  {
   "cell_type": "markdown",
   "metadata": {},
   "source": [
    "<center><h1>KIM_GUKIL_HW8</h1></center>"
   ]
  },
  {
   "cell_type": "markdown",
   "metadata": {},
   "source": [
    "Name: GUK IL KIM \n",
    "<br>\n",
    "Github Username: DanielKim12\n",
    "<br>\n",
    "USC ID: 3020867072"
   ]
  },
  {
   "cell_type": "markdown",
   "metadata": {},
   "source": [
    "## 1. Supervised, Semi-Supervised, and Unsupervised Learning"
   ]
  },
  {
   "cell_type": "markdown",
   "metadata": {},
   "source": [
    "Import packages"
   ]
  },
  {
   "cell_type": "code",
   "execution_count": 61,
   "metadata": {},
   "outputs": [],
   "source": [
    "import pandas as pd\n",
    "import numpy as np\n",
    "from sklearn.preprocessing import MinMaxScaler, StandardScaler\n",
    "from sklearn.metrics import accuracy_score, precision_score, recall_score, f1_score, roc_auc_score, confusion_matrix, roc_curve\n",
    "import matplotlib.pyplot as plt\n",
    "from sklearn.model_selection import GridSearchCV, StratifiedKFold\n",
    "from sklearn.svm import SVC, LinearSVC\n",
    "from scipy.special import softmax\n",
    "from sklearn.neighbors import KNeighborsClassifier\n",
    "from sklearn.cluster import KMeans, SpectralClustering\n",
    "from sklearn.metrics.pairwise import rbf_kernel\n",
    "from collections import Counter\n",
    "from sklearn.model_selection import train_test_split\n",
    "from sklearn.metrics import classification_report\n",
    "import joblib\n",
    "\n",
    "import warnings\n",
    "warnings.filterwarnings(\"ignore\")"
   ]
  },
  {
   "cell_type": "markdown",
   "metadata": {},
   "source": [
    "### (a) Download the Breast Cancer Wisconsin (Diagnostic) Data Set"
   ]
  },
  {
   "cell_type": "markdown",
   "metadata": {},
   "source": [
    "convert to csv to extract data "
   ]
  },
  {
   "cell_type": "code",
   "execution_count": null,
   "metadata": {},
   "outputs": [],
   "source": [
    "sed 's/ \\+/,/g' wdbc.data > wdbc.csv"
   ]
  },
  {
   "cell_type": "code",
   "execution_count": 127,
   "metadata": {},
   "outputs": [
    {
     "data": {
      "text/html": [
       "<div>\n",
       "<style scoped>\n",
       "    .dataframe tbody tr th:only-of-type {\n",
       "        vertical-align: middle;\n",
       "    }\n",
       "\n",
       "    .dataframe tbody tr th {\n",
       "        vertical-align: top;\n",
       "    }\n",
       "\n",
       "    .dataframe thead th {\n",
       "        text-align: right;\n",
       "    }\n",
       "</style>\n",
       "<table border=\"1\" class=\"dataframe\">\n",
       "  <thead>\n",
       "    <tr style=\"text-align: right;\">\n",
       "      <th></th>\n",
       "      <th>id</th>\n",
       "      <th>label</th>\n",
       "      <th>attribute1</th>\n",
       "      <th>attribute2</th>\n",
       "      <th>attribute3</th>\n",
       "      <th>attribute4</th>\n",
       "      <th>attribute5</th>\n",
       "      <th>attribute6</th>\n",
       "      <th>attribute7</th>\n",
       "      <th>attribute8</th>\n",
       "      <th>...</th>\n",
       "      <th>attribute21</th>\n",
       "      <th>attribute22</th>\n",
       "      <th>attribute23</th>\n",
       "      <th>attribute24</th>\n",
       "      <th>attribute25</th>\n",
       "      <th>attribute26</th>\n",
       "      <th>attribute27</th>\n",
       "      <th>attribute28</th>\n",
       "      <th>attribute29</th>\n",
       "      <th>attribute30</th>\n",
       "    </tr>\n",
       "  </thead>\n",
       "  <tbody>\n",
       "    <tr>\n",
       "      <th>0</th>\n",
       "      <td>842302</td>\n",
       "      <td>1</td>\n",
       "      <td>17.99</td>\n",
       "      <td>10.38</td>\n",
       "      <td>122.80</td>\n",
       "      <td>1001.0</td>\n",
       "      <td>0.11840</td>\n",
       "      <td>0.27760</td>\n",
       "      <td>0.3001</td>\n",
       "      <td>0.14710</td>\n",
       "      <td>...</td>\n",
       "      <td>25.38</td>\n",
       "      <td>17.33</td>\n",
       "      <td>184.60</td>\n",
       "      <td>2019.0</td>\n",
       "      <td>0.1622</td>\n",
       "      <td>0.6656</td>\n",
       "      <td>0.7119</td>\n",
       "      <td>0.2654</td>\n",
       "      <td>0.4601</td>\n",
       "      <td>0.11890</td>\n",
       "    </tr>\n",
       "    <tr>\n",
       "      <th>1</th>\n",
       "      <td>842517</td>\n",
       "      <td>1</td>\n",
       "      <td>20.57</td>\n",
       "      <td>17.77</td>\n",
       "      <td>132.90</td>\n",
       "      <td>1326.0</td>\n",
       "      <td>0.08474</td>\n",
       "      <td>0.07864</td>\n",
       "      <td>0.0869</td>\n",
       "      <td>0.07017</td>\n",
       "      <td>...</td>\n",
       "      <td>24.99</td>\n",
       "      <td>23.41</td>\n",
       "      <td>158.80</td>\n",
       "      <td>1956.0</td>\n",
       "      <td>0.1238</td>\n",
       "      <td>0.1866</td>\n",
       "      <td>0.2416</td>\n",
       "      <td>0.1860</td>\n",
       "      <td>0.2750</td>\n",
       "      <td>0.08902</td>\n",
       "    </tr>\n",
       "    <tr>\n",
       "      <th>2</th>\n",
       "      <td>84300903</td>\n",
       "      <td>1</td>\n",
       "      <td>19.69</td>\n",
       "      <td>21.25</td>\n",
       "      <td>130.00</td>\n",
       "      <td>1203.0</td>\n",
       "      <td>0.10960</td>\n",
       "      <td>0.15990</td>\n",
       "      <td>0.1974</td>\n",
       "      <td>0.12790</td>\n",
       "      <td>...</td>\n",
       "      <td>23.57</td>\n",
       "      <td>25.53</td>\n",
       "      <td>152.50</td>\n",
       "      <td>1709.0</td>\n",
       "      <td>0.1444</td>\n",
       "      <td>0.4245</td>\n",
       "      <td>0.4504</td>\n",
       "      <td>0.2430</td>\n",
       "      <td>0.3613</td>\n",
       "      <td>0.08758</td>\n",
       "    </tr>\n",
       "    <tr>\n",
       "      <th>3</th>\n",
       "      <td>84348301</td>\n",
       "      <td>1</td>\n",
       "      <td>11.42</td>\n",
       "      <td>20.38</td>\n",
       "      <td>77.58</td>\n",
       "      <td>386.1</td>\n",
       "      <td>0.14250</td>\n",
       "      <td>0.28390</td>\n",
       "      <td>0.2414</td>\n",
       "      <td>0.10520</td>\n",
       "      <td>...</td>\n",
       "      <td>14.91</td>\n",
       "      <td>26.50</td>\n",
       "      <td>98.87</td>\n",
       "      <td>567.7</td>\n",
       "      <td>0.2098</td>\n",
       "      <td>0.8663</td>\n",
       "      <td>0.6869</td>\n",
       "      <td>0.2575</td>\n",
       "      <td>0.6638</td>\n",
       "      <td>0.17300</td>\n",
       "    </tr>\n",
       "    <tr>\n",
       "      <th>4</th>\n",
       "      <td>84358402</td>\n",
       "      <td>1</td>\n",
       "      <td>20.29</td>\n",
       "      <td>14.34</td>\n",
       "      <td>135.10</td>\n",
       "      <td>1297.0</td>\n",
       "      <td>0.10030</td>\n",
       "      <td>0.13280</td>\n",
       "      <td>0.1980</td>\n",
       "      <td>0.10430</td>\n",
       "      <td>...</td>\n",
       "      <td>22.54</td>\n",
       "      <td>16.67</td>\n",
       "      <td>152.20</td>\n",
       "      <td>1575.0</td>\n",
       "      <td>0.1374</td>\n",
       "      <td>0.2050</td>\n",
       "      <td>0.4000</td>\n",
       "      <td>0.1625</td>\n",
       "      <td>0.2364</td>\n",
       "      <td>0.07678</td>\n",
       "    </tr>\n",
       "  </tbody>\n",
       "</table>\n",
       "<p>5 rows × 32 columns</p>\n",
       "</div>"
      ],
      "text/plain": [
       "         id  label  attribute1  attribute2  attribute3  attribute4  \\\n",
       "0    842302      1       17.99       10.38      122.80      1001.0   \n",
       "1    842517      1       20.57       17.77      132.90      1326.0   \n",
       "2  84300903      1       19.69       21.25      130.00      1203.0   \n",
       "3  84348301      1       11.42       20.38       77.58       386.1   \n",
       "4  84358402      1       20.29       14.34      135.10      1297.0   \n",
       "\n",
       "   attribute5  attribute6  attribute7  attribute8  ...  attribute21  \\\n",
       "0     0.11840     0.27760      0.3001     0.14710  ...        25.38   \n",
       "1     0.08474     0.07864      0.0869     0.07017  ...        24.99   \n",
       "2     0.10960     0.15990      0.1974     0.12790  ...        23.57   \n",
       "3     0.14250     0.28390      0.2414     0.10520  ...        14.91   \n",
       "4     0.10030     0.13280      0.1980     0.10430  ...        22.54   \n",
       "\n",
       "   attribute22  attribute23  attribute24  attribute25  attribute26  \\\n",
       "0        17.33       184.60       2019.0       0.1622       0.6656   \n",
       "1        23.41       158.80       1956.0       0.1238       0.1866   \n",
       "2        25.53       152.50       1709.0       0.1444       0.4245   \n",
       "3        26.50        98.87        567.7       0.2098       0.8663   \n",
       "4        16.67       152.20       1575.0       0.1374       0.2050   \n",
       "\n",
       "   attribute27  attribute28  attribute29  attribute30  \n",
       "0       0.7119       0.2654       0.4601      0.11890  \n",
       "1       0.2416       0.1860       0.2750      0.08902  \n",
       "2       0.4504       0.2430       0.3613      0.08758  \n",
       "3       0.6869       0.2575       0.6638      0.17300  \n",
       "4       0.4000       0.1625       0.2364      0.07678  \n",
       "\n",
       "[5 rows x 32 columns]"
      ]
     },
     "execution_count": 127,
     "metadata": {},
     "output_type": "execute_result"
    }
   ],
   "source": [
    "df = pd.read_csv(\"./data/wdbc.csv\", header = None)\n",
    "df.replace({'M': 1, 'B': 0}, inplace = True)\n",
    "df.columns = ['id', 'label'] + [f'attribute{i}' for i in range(1, 31)] # 30 attributes\n",
    "df.head()"
   ]
  },
  {
   "cell_type": "markdown",
   "metadata": {},
   "source": [
    "### (b) Monte-Carlo Simulation"
   ]
  },
  {
   "cell_type": "code",
   "execution_count": 45,
   "metadata": {},
   "outputs": [],
   "source": [
    "# to split data 20% test and 80% train\n",
    "def split_data(df, label_col='label', id_col='id', test_size=0.2, random_state=None):\n",
    "    if random_state: \n",
    "        np.random.seed(random_state)\n",
    "    # label and id\n",
    "    label_idx = df.columns.get_loc(label_col)\n",
    "    id_idx = df.columns.get_loc(id_col)\n",
    "    # seperate positive and negative samples\n",
    "    pos_samples = df[df[label_col] == 1]\n",
    "    neg_samples = df[df[label_col] == 0]\n",
    "    pos_test_size = int(len(pos_samples) * test_size)\n",
    "    neg_test_size = int(len(neg_samples) * test_size)\n",
    "    # shuffle and select test samples\n",
    "    pos_test_indices = np.random.choice(pos_samples.index, pos_test_size, replace=False)\n",
    "    neg_test_indices = np.random.choice(neg_samples.index, neg_test_size, replace=False)\n",
    "    test_indices = np.concatenate([pos_test_indices, neg_test_indices])\n",
    "    train_indices = df.index.difference(test_indices)\n",
    "    # select features and labels\n",
    "    feature_indices = list(range(df.shape[1]))\n",
    "    feature_indices.remove(label_idx)\n",
    "    feature_indices.remove(id_idx)\n",
    "    # use iloc to select data\n",
    "    x_train = df.iloc[train_indices, feature_indices]\n",
    "    y_train = df.iloc[train_indices, label_idx]\n",
    "    x_test = df.iloc[test_indices, feature_indices]\n",
    "    y_test = df.iloc[test_indices, label_idx]\n",
    "    return x_train, x_test, y_train, y_test"
   ]
  },
  {
   "cell_type": "code",
   "execution_count": 46,
   "metadata": {},
   "outputs": [],
   "source": [
    "def normalize_data(x_train, x_test, method='standard'): # to normalize data\n",
    "    if method == 'minmax':\n",
    "        scaler = MinMaxScaler()\n",
    "    elif method == 'standard':\n",
    "        scaler = StandardScaler()\n",
    "    else:\n",
    "        raise ValueError(\"Invalid method. Use 'standard' or 'minmax'.\")\n",
    "    x_train_norm = scaler.fit_transform(x_train)\n",
    "    x_test_norm = scaler.transform(x_test)\n",
    "    return x_train_norm, x_test_norm"
   ]
  },
  {
   "cell_type": "code",
   "execution_count": 47,
   "metadata": {},
   "outputs": [],
   "source": [
    "def plot_roc_curve(y_true, y_score, title=\"ROC Curve\"):\n",
    "    fpr, tpr, _ = roc_curve(y_true, y_score)\n",
    "    auc_score = roc_auc_score(y_true, y_score)\n",
    "    plt.figure(figsize=(7, 5))\n",
    "    plt.plot(fpr, tpr, label=f\"ROC Curve (AUC = {auc_score:.4f})\")\n",
    "    plt.plot([0, 1], [0, 1], 'k--', color='red')  \n",
    "    plt.xlabel('False Positive Rate')\n",
    "    plt.ylabel('True Positive Rate')\n",
    "    plt.title(title)\n",
    "    plt.legend(loc='lower right')\n",
    "    plt.grid()\n",
    "    plt.show() "
   ]
  },
  {
   "cell_type": "code",
   "execution_count": 48,
   "metadata": {},
   "outputs": [],
   "source": [
    "def analyze_model_performance(model, X, y, title=\"Model Performance\", plot_roc=False):\n",
    "    y_pred = model.predict(X)\n",
    "    # decision_function or predict_proba based on the model\n",
    "    if hasattr(model, \"decision_function\"):\n",
    "        y_score = model.decision_function(X)\n",
    "    elif hasattr(model, \"predict_proba\"):\n",
    "        y_score = model.predict_proba(X)[:, 1]\n",
    "    else:\n",
    "        raise AttributeError(\"Model does not support decision_function or predict_proba.\")\n",
    "\n",
    "    # get metrics\n",
    "    accuracy = accuracy_score(y, y_pred)\n",
    "    precision = precision_score(y, y_pred)\n",
    "    recall = recall_score(y, y_pred)\n",
    "    f1 = f1_score(y, y_pred)\n",
    "    auc_score = roc_auc_score(y, y_score)\n",
    "    conf_matrix = confusion_matrix(y, y_pred)\n",
    "\n",
    "    # only plot ROC curve if plot_roc is True, this is to avoid plotting ROC curve for every model\n",
    "    if plot_roc:\n",
    "        print(f\"Accuracy Score for {title}: {accuracy:.4f}\")\n",
    "        print(f\"Confusion Matrix for {title}:\\n{conf_matrix}\\n\")\n",
    "        plot_roc_curve(y_true=y, y_score=y_score, title=f\"ROC Curve for {title}\\n\")\n",
    "\n",
    "    return {\n",
    "        'accuracy': accuracy,\n",
    "        'precision': precision,\n",
    "        'recall': recall,\n",
    "        'f1_score': f1,\n",
    "        'auc': auc_score\n",
    "    } "
   ]
  },
  {
   "cell_type": "code",
   "execution_count": 55,
   "metadata": {},
   "outputs": [],
   "source": [
    "def summarize_metrics(train_metrics, test_metrics):\n",
    "    # averages\n",
    "    train_avg = train_metrics.mean()\n",
    "    test_avg = test_metrics.mean()\n",
    "    # combine averages into a single DataFrame\n",
    "    summary_df = pd.DataFrame({\n",
    "        \"Train Average\": train_avg,\n",
    "        \"Test Average\": test_avg\n",
    "    })\n",
    "\n",
    "    summary_df.index = [metric.capitalize() for metric in summary_df.index]  # capitalize metric names\n",
    "    summary_df = summary_df.round(4)  # Round values to 4 decimal places\n",
    "    print(\"\\nSummary of Average Metrics:\")\n",
    "    display(summary_df)  # Display nicely in Jupyter Notebook\n",
    "    return summary_df"
   ]
  },
  {
   "cell_type": "code",
   "execution_count": 50,
   "metadata": {},
   "outputs": [],
   "source": [
    "# model for supervised learning and semi-supervised learning\n",
    "def run_svm(df_train, iters=30, test_size=0.2, random_state=None, normalize_method='standard', learning_type='supervised'):\n",
    "    stats = ['accuracy', 'precision', 'recall', 'f1_score', 'auc']\n",
    "    train_metrics = pd.DataFrame(columns=stats)\n",
    "    test_metrics = pd.DataFrame(columns=stats)\n",
    "    print(\"Iteration\\tTrain Accuracy\\tTest Accuracy\\tBest Params\")\n",
    "    last_model = None\n",
    "    last_x_train, last_x_test, last_y_train, last_y_test = None, None, None, None\n",
    "\n",
    "    for i in range(iters):\n",
    "        # split data\n",
    "        x_train, x_test, y_train, y_test = split_data(\n",
    "            df_train, test_size=test_size, random_state=random_state + i if random_state else None\n",
    "        )\n",
    "        x_train, x_test = normalize_data(x_train, x_test, method=normalize_method)\n",
    "\n",
    "        # parameter grid for SVM\n",
    "        param_grid = {'C': np.logspace(-2, 3, 10)} # 10 values between 0.01 and 1000\n",
    "        grid_args = {\n",
    "            'param_grid': param_grid,\n",
    "            'scoring': 'f1_weighted',\n",
    "            'cv': StratifiedKFold(3, shuffle=True, random_state=i),\n",
    "            'n_jobs': 1\n",
    "        }\n",
    "\n",
    "        # condition for supervised and semi-supervised learning\n",
    "        if learning_type == 'supervised':\n",
    "            # train SVM in supervised mode\n",
    "            model = GridSearchCV(estimator=SVC(kernel='linear', probability=True), **grid_args)\n",
    "            model.fit(x_train, y_train)\n",
    "        elif learning_type == 'semi-supervised':\n",
    "            # semi-supervised learning with self-training\n",
    "            labeled_indices = []\n",
    "            unlabeled_indices = []\n",
    "\n",
    "            # 50% of each class is labeled\n",
    "            for label in [0, 1]:\n",
    "                label_indices = np.where(y_train == label)[0]\n",
    "                labeled_indices.extend(\n",
    "                    np.random.choice(label_indices, round(len(label_indices) * 0.5), replace=False)\n",
    "                )\n",
    "            unlabeled_indices = [i for i in range(len(x_train)) if i not in labeled_indices]\n",
    "            x_labeled = x_train[labeled_indices]\n",
    "            y_labeled = y_train.iloc[labeled_indices].to_numpy()\n",
    "            x_unlabeled = x_train[unlabeled_indices]\n",
    "            # train initial model on labeled data\n",
    "            model = GridSearchCV(estimator=LinearSVC(penalty='l1', dual=False), **grid_args)\n",
    "            model.fit(x_labeled, y_labeled)\n",
    "\n",
    "            # self-training loop\n",
    "            while len(x_unlabeled) > 0:\n",
    "                # calculate distances to the decision boundary\n",
    "                scores = model.decision_function(x_unlabeled)\n",
    "                # farthest point from the decision boundary\n",
    "                farthest_index = np.argmax(np.abs(scores))\n",
    "                x_labeled = np.vstack([x_labeled, x_unlabeled[farthest_index]])\n",
    "                y_labeled = np.append(y_labeled, model.predict(x_unlabeled[farthest_index].reshape(1, -1)))\n",
    "                # remove the point from the unlabeled dataset\n",
    "                x_unlabeled = np.delete(x_unlabeled, farthest_index, axis=0)\n",
    "                # retrain the model on the updated labeled dataset\n",
    "                model.best_estimator_.fit(x_labeled, y_labeled)\n",
    "        else:\n",
    "            raise ValueError(\"Invalid learning_type. Choose 'supervised' or 'semi-supervised'.\")\n",
    "\n",
    "        # summary\n",
    "        train_results = analyze_model_performance(model, x_train, y_train, plot_roc=False)\n",
    "        test_results = analyze_model_performance(model, x_test, y_test, plot_roc=False)\n",
    "        train_metrics = train_metrics.append(train_results, ignore_index=True)\n",
    "        test_metrics = test_metrics.append(test_results, ignore_index=True)\n",
    "\n",
    "        # save the model and data for the last iteration\n",
    "        if i == iters - 1:\n",
    "            last_model = model\n",
    "            last_x_train, last_x_test, last_y_train, last_y_test = x_train, x_test, y_train, y_test\n",
    "\n",
    "        print(f\"{i + 1}\\t\\t{train_results['accuracy']:.4f}\\t\\t{test_results['accuracy']:.4f}\\t\\t{model.best_params_ if hasattr(model, 'best_params_') else 'N/A'}\")\n",
    "\n",
    "    print(\"\\nFinal Performance Analysis for Last Iteration:\")\n",
    "    analyze_model_performance(last_model, last_x_train, last_y_train, title=\"Final Training Performance\", plot_roc=True)\n",
    "    analyze_model_performance(last_model, last_x_test, last_y_test, title=\"Final Testing Performance\", plot_roc=True)\n",
    "    summary = summarize_metrics(train_metrics, test_metrics)\n",
    "    return summary"
   ]
  },
  {
   "cell_type": "markdown",
   "metadata": {},
   "source": [
    "#### (i) Supervised Learning"
   ]
  },
  {
   "cell_type": "code",
   "execution_count": 51,
   "metadata": {},
   "outputs": [],
   "source": [
    "x_train, x_test, y_train, y_test = split_data(df, label_col='label', test_size=0.2, random_state=0)\n",
    "#x_train.head()"
   ]
  },
  {
   "cell_type": "code",
   "execution_count": 52,
   "metadata": {},
   "outputs": [],
   "source": [
    "#x_test.head()"
   ]
  },
  {
   "cell_type": "code",
   "execution_count": 53,
   "metadata": {},
   "outputs": [],
   "source": [
    "# display(y_train.value_counts())\n",
    "# display(y_test.value_counts())"
   ]
  },
  {
   "cell_type": "code",
   "execution_count": 56,
   "metadata": {},
   "outputs": [
    {
     "name": "stdout",
     "output_type": "stream",
     "text": [
      "Iteration\tTrain Accuracy\tTest Accuracy\tBest Params\n",
      "1\t\t0.9759\t\t0.9735\t\t{'C': 0.03593813663804628}\n",
      "2\t\t0.9825\t\t0.9735\t\t{'C': 0.03593813663804628}\n",
      "3\t\t0.9846\t\t0.9735\t\t{'C': 0.03593813663804628}\n",
      "4\t\t0.9868\t\t0.9469\t\t{'C': 0.464158883361278}\n",
      "5\t\t0.9890\t\t0.9735\t\t{'C': 0.464158883361278}\n",
      "6\t\t0.9890\t\t0.9646\t\t{'C': 0.464158883361278}\n",
      "7\t\t0.9912\t\t0.9558\t\t{'C': 0.1291549665014884}\n",
      "8\t\t0.9781\t\t0.9912\t\t{'C': 0.03593813663804628}\n",
      "9\t\t0.9912\t\t0.9646\t\t{'C': 1.6681005372000592}\n",
      "10\t\t0.9868\t\t0.9646\t\t{'C': 0.1291549665014884}\n",
      "11\t\t0.9912\t\t0.9646\t\t{'C': 0.464158883361278}\n",
      "12\t\t0.9846\t\t0.9912\t\t{'C': 0.1291549665014884}\n",
      "13\t\t0.9825\t\t0.9912\t\t{'C': 0.1291549665014884}\n",
      "14\t\t0.9868\t\t0.9823\t\t{'C': 0.464158883361278}\n",
      "15\t\t0.9803\t\t0.9912\t\t{'C': 0.1291549665014884}\n",
      "16\t\t0.9846\t\t0.9912\t\t{'C': 0.1291549665014884}\n",
      "17\t\t0.9868\t\t0.9823\t\t{'C': 0.03593813663804628}\n",
      "18\t\t0.9890\t\t0.9735\t\t{'C': 0.1291549665014884}\n",
      "19\t\t0.9868\t\t0.9558\t\t{'C': 0.03593813663804628}\n",
      "20\t\t0.9846\t\t0.9823\t\t{'C': 0.1291549665014884}\n",
      "21\t\t0.9846\t\t0.9823\t\t{'C': 0.464158883361278}\n",
      "22\t\t0.9846\t\t0.9735\t\t{'C': 0.1291549665014884}\n",
      "23\t\t0.9890\t\t0.9735\t\t{'C': 0.464158883361278}\n",
      "24\t\t0.9846\t\t0.9735\t\t{'C': 0.1291549665014884}\n",
      "25\t\t0.9912\t\t0.9823\t\t{'C': 5.994842503189409}\n",
      "26\t\t0.9890\t\t0.9735\t\t{'C': 0.464158883361278}\n",
      "27\t\t0.9868\t\t0.9735\t\t{'C': 0.1291549665014884}\n",
      "28\t\t0.9868\t\t0.9823\t\t{'C': 0.1291549665014884}\n",
      "29\t\t0.9846\t\t0.9735\t\t{'C': 0.464158883361278}\n",
      "30\t\t0.9825\t\t0.9823\t\t{'C': 0.464158883361278}\n",
      "\n",
      "Final Performance Analysis for Last Iteration:\n",
      "Accuracy Score for Final Training Performance: 0.9825\n",
      "Confusion Matrix for Final Training Performance:\n",
      "[[283   3]\n",
      " [  5 165]]\n",
      "\n"
     ]
    },
    {
     "data": {
      "image/png": "[encoded data removed]",
      "text/plain": [
       "<Figure size 700x500 with 1 Axes>"
      ]
     },
     "metadata": {},
     "output_type": "display_data"
    },
    {
     "name": "stdout",
     "output_type": "stream",
     "text": [
      "Accuracy Score for Final Testing Performance: 0.9823\n",
      "Confusion Matrix for Final Testing Performance:\n",
      "[[71  0]\n",
      " [ 2 40]]\n",
      "\n"
     ]
    },
    {
     "data": {
      "image/png": "[encoded data removed]",
      "text/plain": [
       "<Figure size 700x500 with 1 Axes>"
      ]
     },
     "metadata": {},
     "output_type": "display_data"
    },
    {
     "name": "stdout",
     "output_type": "stream",
     "text": [
      "\n",
      "Summary of Average Metrics:\n"
     ]
    },
    {
     "data": {
      "text/html": [
       "<div>\n",
       "<style scoped>\n",
       "    .dataframe tbody tr th:only-of-type {\n",
       "        vertical-align: middle;\n",
       "    }\n",
       "\n",
       "    .dataframe tbody tr th {\n",
       "        vertical-align: top;\n",
       "    }\n",
       "\n",
       "    .dataframe thead th {\n",
       "        text-align: right;\n",
       "    }\n",
       "</style>\n",
       "<table border=\"1\" class=\"dataframe\">\n",
       "  <thead>\n",
       "    <tr style=\"text-align: right;\">\n",
       "      <th></th>\n",
       "      <th>Train Average</th>\n",
       "      <th>Test Average</th>\n",
       "    </tr>\n",
       "  </thead>\n",
       "  <tbody>\n",
       "    <tr>\n",
       "      <th>Accuracy</th>\n",
       "      <td>0.9859</td>\n",
       "      <td>0.9752</td>\n",
       "    </tr>\n",
       "    <tr>\n",
       "      <th>Precision</th>\n",
       "      <td>0.9930</td>\n",
       "      <td>0.9848</td>\n",
       "    </tr>\n",
       "    <tr>\n",
       "      <th>Recall</th>\n",
       "      <td>0.9690</td>\n",
       "      <td>0.9484</td>\n",
       "    </tr>\n",
       "    <tr>\n",
       "      <th>F1_score</th>\n",
       "      <td>0.9808</td>\n",
       "      <td>0.9659</td>\n",
       "    </tr>\n",
       "    <tr>\n",
       "      <th>Auc</th>\n",
       "      <td>0.9968</td>\n",
       "      <td>0.9941</td>\n",
       "    </tr>\n",
       "  </tbody>\n",
       "</table>\n",
       "</div>"
      ],
      "text/plain": [
       "           Train Average  Test Average\n",
       "Accuracy          0.9859        0.9752\n",
       "Precision         0.9930        0.9848\n",
       "Recall            0.9690        0.9484\n",
       "F1_score          0.9808        0.9659\n",
       "Auc               0.9968        0.9941"
      ]
     },
     "metadata": {},
     "output_type": "display_data"
    }
   ],
   "source": [
    "supervised_results = run_svm(df, iters=30, random_state=42, learning_type='supervised')"
   ]
  },
  {
   "cell_type": "markdown",
   "metadata": {},
   "source": [
    "#### (ii) Semi-Supervised Learning/ Self-training"
   ]
  },
  {
   "cell_type": "markdown",
   "metadata": {},
   "source": [
    "##### (A) & (B)"
   ]
  },
  {
   "cell_type": "code",
   "execution_count": 57,
   "metadata": {},
   "outputs": [
    {
     "name": "stdout",
     "output_type": "stream",
     "text": [
      "Iteration\tTrain Accuracy\tTest Accuracy\tBest Params\n",
      "1\t\t0.9803\t\t0.9558\t\t{'C': 0.1291549665014884}\n",
      "2\t\t0.9781\t\t0.9735\t\t{'C': 0.03593813663804628}\n",
      "3\t\t0.9846\t\t0.9558\t\t{'C': 77.42636826811278}\n",
      "4\t\t0.9693\t\t0.9204\t\t{'C': 0.464158883361278}\n",
      "5\t\t0.9737\t\t0.9646\t\t{'C': 0.464158883361278}\n",
      "6\t\t0.9759\t\t0.9735\t\t{'C': 0.1291549665014884}\n",
      "7\t\t0.9825\t\t0.9646\t\t{'C': 5.994842503189409}\n",
      "8\t\t0.9737\t\t1.0000\t\t{'C': 0.1291549665014884}\n",
      "9\t\t0.9759\t\t0.9646\t\t{'C': 0.1291549665014884}\n",
      "10\t\t0.9803\t\t0.9558\t\t{'C': 1000.0}\n",
      "11\t\t0.9693\t\t0.9646\t\t{'C': 0.03593813663804628}\n",
      "12\t\t0.9649\t\t1.0000\t\t{'C': 0.03593813663804628}\n",
      "13\t\t0.9781\t\t0.9558\t\t{'C': 1000.0}\n",
      "14\t\t0.9627\t\t0.9646\t\t{'C': 0.1291549665014884}\n",
      "15\t\t0.9781\t\t1.0000\t\t{'C': 0.464158883361278}\n",
      "16\t\t0.9671\t\t0.9823\t\t{'C': 1.6681005372000592}\n",
      "17\t\t0.9781\t\t0.9646\t\t{'C': 0.464158883361278}\n",
      "18\t\t0.9781\t\t0.9558\t\t{'C': 5.994842503189409}\n",
      "19\t\t0.9890\t\t0.9735\t\t{'C': 0.464158883361278}\n",
      "20\t\t0.9737\t\t0.9823\t\t{'C': 0.1291549665014884}\n",
      "21\t\t0.9803\t\t0.9381\t\t{'C': 77.42636826811278}\n",
      "22\t\t0.9868\t\t0.9558\t\t{'C': 21.544346900318846}\n",
      "23\t\t0.9759\t\t0.9469\t\t{'C': 0.1291549665014884}\n",
      "24\t\t0.9715\t\t0.9469\t\t{'C': 0.03593813663804628}\n",
      "25\t\t0.9781\t\t0.9735\t\t{'C': 0.464158883361278}\n",
      "26\t\t0.9759\t\t0.9558\t\t{'C': 0.464158883361278}\n",
      "27\t\t0.9759\t\t0.9823\t\t{'C': 0.1291549665014884}\n",
      "28\t\t0.9737\t\t0.9558\t\t{'C': 0.464158883361278}\n",
      "29\t\t0.9781\t\t0.9735\t\t{'C': 0.1291549665014884}\n",
      "30\t\t0.9693\t\t0.9558\t\t{'C': 0.1291549665014884}\n",
      "\n",
      "Final Performance Analysis for Last Iteration:\n",
      "Accuracy Score for Final Training Performance: 0.9693\n",
      "Confusion Matrix for Final Training Performance:\n",
      "[[282   4]\n",
      " [ 10 160]]\n",
      "\n"
     ]
    },
    {
     "data": {
      "image/png": "[encoded data removed]",
      "text/plain": [
       "<Figure size 700x500 with 1 Axes>"
      ]
     },
     "metadata": {},
     "output_type": "display_data"
    },
    {
     "name": "stdout",
     "output_type": "stream",
     "text": [
      "Accuracy Score for Final Testing Performance: 0.9558\n",
      "Confusion Matrix for Final Testing Performance:\n",
      "[[70  1]\n",
      " [ 4 38]]\n",
      "\n"
     ]
    },
    {
     "data": {
      "image/png": "[encoded data removed]",
      "text/plain": [
       "<Figure size 700x500 with 1 Axes>"
      ]
     },
     "metadata": {},
     "output_type": "display_data"
    },
    {
     "name": "stdout",
     "output_type": "stream",
     "text": [
      "\n",
      "Summary of Average Metrics:\n"
     ]
    },
    {
     "data": {
      "text/html": [
       "<div>\n",
       "<style scoped>\n",
       "    .dataframe tbody tr th:only-of-type {\n",
       "        vertical-align: middle;\n",
       "    }\n",
       "\n",
       "    .dataframe tbody tr th {\n",
       "        vertical-align: top;\n",
       "    }\n",
       "\n",
       "    .dataframe thead th {\n",
       "        text-align: right;\n",
       "    }\n",
       "</style>\n",
       "<table border=\"1\" class=\"dataframe\">\n",
       "  <thead>\n",
       "    <tr style=\"text-align: right;\">\n",
       "      <th></th>\n",
       "      <th>Train Average</th>\n",
       "      <th>Test Average</th>\n",
       "    </tr>\n",
       "  </thead>\n",
       "  <tbody>\n",
       "    <tr>\n",
       "      <th>Accuracy</th>\n",
       "      <td>0.9760</td>\n",
       "      <td>0.9652</td>\n",
       "    </tr>\n",
       "    <tr>\n",
       "      <th>Precision</th>\n",
       "      <td>0.9813</td>\n",
       "      <td>0.9702</td>\n",
       "    </tr>\n",
       "    <tr>\n",
       "      <th>Recall</th>\n",
       "      <td>0.9539</td>\n",
       "      <td>0.9357</td>\n",
       "    </tr>\n",
       "    <tr>\n",
       "      <th>F1_score</th>\n",
       "      <td>0.9672</td>\n",
       "      <td>0.9522</td>\n",
       "    </tr>\n",
       "    <tr>\n",
       "      <th>Auc</th>\n",
       "      <td>0.9946</td>\n",
       "      <td>0.9902</td>\n",
       "    </tr>\n",
       "  </tbody>\n",
       "</table>\n",
       "</div>"
      ],
      "text/plain": [
       "           Train Average  Test Average\n",
       "Accuracy          0.9760        0.9652\n",
       "Precision         0.9813        0.9702\n",
       "Recall            0.9539        0.9357\n",
       "F1_score          0.9672        0.9522\n",
       "Auc               0.9946        0.9902"
      ]
     },
     "metadata": {},
     "output_type": "display_data"
    }
   ],
   "source": [
    "semi_supervised_results = run_svm(df, iters=30, random_state=42, learning_type='semi-supervised')"
   ]
  },
  {
   "cell_type": "markdown",
   "metadata": {},
   "source": [
    "#### (iii) Unsupervised Learning"
   ]
  },
  {
   "cell_type": "markdown",
   "metadata": {},
   "source": [
    "##### (A)"
   ]
  },
  {
   "cell_type": "markdown",
   "metadata": {},
   "source": [
    "To make sure that algorithm was not trapped in local minimum, there are few solutions to avoid this. \n",
    "- Change the learning rate: A smaller learning rate may help the model to escape from the local minimum.\n",
    "- Use alternate algorithm: Using a different optimization method, such as stochastic gradient descent (SGD) or momentum, might be more effective in avoiding local minima.\n",
    "- Incorporate regularization: Regularization helps prevent the model from overfitting the training data and reduces the likelihood of getting stuck in a local minimum."
   ]
  },
  {
   "cell_type": "markdown",
   "metadata": {},
   "source": [
    "##### (B)"
   ]
  },
  {
   "cell_type": "code",
   "execution_count": 73,
   "metadata": {},
   "outputs": [],
   "source": [
    "# for unsupervised learning with KMeans and Spectral Clustering summary\n",
    "def analyze_model_performance_kmeans(y_true, y_pred, y_score=None, title=\"Model Performance\", plot_roc=False):\n",
    "    accuracy = accuracy_score(y_true, y_pred)\n",
    "    precision = precision_score(y_true, y_pred)\n",
    "    recall = recall_score(y_true, y_pred)\n",
    "    f1 = f1_score(y_true, y_pred)\n",
    "    auc_score = roc_auc_score(y_true, y_score) if y_score is not None else None\n",
    "    conf_matrix = confusion_matrix(y_true, y_pred)\n",
    "\n",
    "    if plot_roc and y_score is not None:\n",
    "        print(f\"Accuracy Score for {title}: {accuracy:.4f}\")\n",
    "        print(f\"\\nConfusion Matrix for {title}:\\n{conf_matrix}\")\n",
    "        fpr, tpr, _ = roc_curve(y_true, y_score)\n",
    "        plt.figure(figsize=(8, 6))\n",
    "        plt.plot(fpr, tpr, label=f\"ROC Curve (AUC = {auc_score:.4f})\")\n",
    "        plt.plot([0, 1], [0, 1], 'k--', color='red')\n",
    "        plt.xlabel(\"False Positive Rate\")\n",
    "        plt.ylabel(\"True Positive Rate\")\n",
    "        plt.title(title)\n",
    "        plt.legend(loc=\"lower right\")\n",
    "        plt.grid()\n",
    "        plt.show()\n",
    "\n",
    "    return {\n",
    "        'accuracy': accuracy,\n",
    "        'precision': precision,\n",
    "        'recall': recall,\n",
    "        'f1_score': f1,\n",
    "        'auc': auc_score\n",
    "    }"
   ]
  },
  {
   "cell_type": "code",
   "execution_count": 59,
   "metadata": {},
   "outputs": [],
   "source": [
    "def plot_roc_curve_kmenas(fpr_tpr_list, title=\"ROC Curve for K-means\"):\n",
    "    plt.figure(figsize=(8, 6))\n",
    "    for fpr, tpr, auc_score in fpr_tpr_list:\n",
    "        plt.plot(fpr, tpr, label=f\"AUC = {auc_score:.4f}\")\n",
    "    plt.plot([0, 1], [0, 1], 'k--', color='gray')\n",
    "    plt.xlabel(\"False Positive Rate\")\n",
    "    plt.ylabel(\"True Positive Rate\")\n",
    "    plt.title(title)\n",
    "    plt.legend(loc=\"lower right\")\n",
    "    plt.grid()\n",
    "    plt.show()"
   ]
  },
  {
   "cell_type": "code",
   "execution_count": 69,
   "metadata": {},
   "outputs": [],
   "source": [
    "# calculate distance and probability \n",
    "def calc_dist_proba(centers, X, labels):\n",
    "    centers = np.array(centers)\n",
    "    n_samples = X.shape[0]\n",
    "    n_clusters = centers.shape[0]\n",
    "\n",
    "    # Validate that there are two clusters\n",
    "    if n_clusters != 2:\n",
    "        raise ValueError(\"This function is designed for two clusters only.\")\n",
    "\n",
    "    # Initialize distances and probabilities arrays\n",
    "    distances = np.zeros(n_samples)\n",
    "    probabilities = np.zeros((n_samples, n_clusters))\n",
    "\n",
    "    # Compute distances and probabilities\n",
    "    for i in range(n_samples):\n",
    "        assigned_center = centers[labels[i]]\n",
    "        distances[i] = np.linalg.norm(X[i] - assigned_center)\n",
    "        for cluster_idx in range(n_clusters):\n",
    "            probabilities[i, cluster_idx] = np.linalg.norm(X[i] - centers[cluster_idx])\n",
    "\n",
    "    # Convert distances to probabilities using softmax\n",
    "    probabilities = softmax(-probabilities, axis=1)\n",
    "    return distances, probabilities"
   ]
  },
  {
   "cell_type": "code",
   "execution_count": 72,
   "metadata": {},
   "outputs": [],
   "source": [
    "def majority_voting(label_cluster, distances, y_true, n_closest=30):\n",
    "    label_to_cluster = {0: -1, 1: -1}  # Initialize mappings with default values\n",
    "    final_labels = label_cluster.copy()\n",
    "    for cluster in np.unique(label_cluster):\n",
    "        cluster_indices = np.where(label_cluster == cluster)[0]\n",
    "        if distances is not None:\n",
    "            # Sort indices by distance and select the closest n_closest points\n",
    "            closest_indices = cluster_indices[np.argsort(distances[cluster_indices])[:n_closest]]\n",
    "        else:\n",
    "            # If distances are not provided, select n_closest points randomly\n",
    "            closest_indices = np.random.choice(cluster_indices, min(n_closest, len(cluster_indices)), replace=False)\n",
    "        # Find the majority label in the closest points\n",
    "        if len(closest_indices) > 0:\n",
    "            majority_label = y_true.iloc[closest_indices].value_counts().idxmax()\n",
    "            final_labels[cluster_indices] = majority_label\n",
    "            label_to_cluster[majority_label] = cluster\n",
    "    # Ensure both classes are present in the mapping\n",
    "    if label_to_cluster[0] == -1:\n",
    "        label_to_cluster[0] = np.unique(label_cluster)[0]\n",
    "    if label_to_cluster[1] == -1:\n",
    "        label_to_cluster[1] = np.unique(label_cluster)[-1]\n",
    "    return label_to_cluster, final_labels"
   ]
  },
  {
   "cell_type": "code",
   "execution_count": 74,
   "metadata": {},
   "outputs": [],
   "source": [
    "# unsupervised learning with KMeans and Spectral Clustering\n",
    "def run_kmeans_unsupervised(df, iters=30, test_size=0.2, random_state=None, k=2, n_closest=30, method=\"kmeans\"):\n",
    "    stats = ['accuracy', 'precision', 'recall', 'f1_score', 'auc']\n",
    "    train_metrics = pd.DataFrame(columns=stats)\n",
    "    test_metrics = pd.DataFrame(columns=stats)\n",
    "    print(\"Iteration\\tTrain Accuracy\\tTest Accuracy\")\n",
    "    for i in range(iters):\n",
    "        # split data\n",
    "        x_train, x_test, y_train, y_test = split_data(df, test_size=test_size, random_state=random_state + i)\n",
    "        x_train, x_test = normalize_data(x_train, x_test, method=\"standard\")\n",
    "        # condition for KMeans and Spectral Clustering\n",
    "        if method == \"kmeans\":\n",
    "            model = KMeans(n_clusters=k, n_init=15, random_state=random_state + i)\n",
    "            predicted_label_train = model.fit_predict(x_train)\n",
    "            cluster_centers = model.cluster_centers_\n",
    "            distances_train, probabilities_train = calc_dist_proba(cluster_centers, x_train, predicted_label_train)\n",
    "        elif method == \"spectral\":\n",
    "            model = SpectralClustering(n_clusters=k, assign_labels=\"kmeans\", affinity=\"rbf\", random_state=random_state + i)\n",
    "            predicted_label_train = model.fit_predict(x_train)\n",
    "            cluster_centers = [\n",
    "                np.mean(x_train[predicted_label_train == cluster], axis=0) for cluster in np.unique(predicted_label_train)\n",
    "            ]\n",
    "            distances_train, probabilities_train = calc_dist_proba(cluster_centers, x_train, predicted_label_train)\n",
    "        else:\n",
    "            raise ValueError(\"Invalid method. Choose 'kmeans' or 'spectral'.\")\n",
    "\n",
    "        cluster_to_label, final_predictions_train = majority_voting(predicted_label_train, distances_train, y_train, n_closest)\n",
    "        # Ensure the positive class aligns with the probability for '1'\n",
    "        train_prob = probabilities_train[:, cluster_to_label[1]] if 1 in cluster_to_label else probabilities_train[:, 0]\n",
    "        train_metrics = train_metrics.append(\n",
    "            analyze_model_performance_kmeans(y_train, final_predictions_train, y_score=train_prob, title=\"Training\", plot_roc=False),\n",
    "            ignore_index=True\n",
    "        )\n",
    "        # Test predictions\n",
    "        if method == \"kmeans\":\n",
    "            predicted_label_test = model.predict(x_test)\n",
    "            distances_test, probabilities_test = calc_dist_proba(cluster_centers, x_test, predicted_label_test)\n",
    "        elif method == \"spectral\":\n",
    "            knn_model = KNeighborsClassifier(n_neighbors=1).fit(x_train, predicted_label_train)\n",
    "            predicted_label_test = knn_model.predict(x_test)\n",
    "            distances_test, probabilities_test = calc_dist_proba(cluster_centers, x_test, predicted_label_test)\n",
    "\n",
    "        cluster_to_label_test, final_predictions_test = majority_voting(predicted_label_test, distances_test, y_test, n_closest)\n",
    "        # check if the positive class aligns with the probability for '1'\n",
    "        if 1 in cluster_to_label_test:\n",
    "            test_prob = probabilities_test[:, cluster_to_label_test[1]]\n",
    "        else:\n",
    "            test_prob = probabilities_test[:, 0]  # Default to first cluster if '1' is missing\n",
    "\n",
    "        test_metrics = test_metrics.append(\n",
    "            analyze_model_performance_kmeans(y_test, final_predictions_test, y_score=test_prob, title=\"Testing\", plot_roc=False),\n",
    "            ignore_index=True\n",
    "        )\n",
    "        print(f\"{i + 1}\\t\\t{train_metrics.iloc[-1]['accuracy']:.4f}\\t\\t{test_metrics.iloc[-1]['accuracy']:.4f}\")\n",
    "    print(\"\\nFinal Performance Analysis:\")\n",
    "    analyze_model_performance_kmeans(y_train, final_predictions_train, y_score=train_prob, title=\"Final Training Performance\", plot_roc=True)\n",
    "    analyze_model_performance_kmeans(y_test, final_predictions_test, y_score=test_prob, title=\"Final Testing Performance\", plot_roc=True)\n",
    "    summary = summarize_metrics(train_metrics, test_metrics)\n",
    "    return summary"
   ]
  },
  {
   "cell_type": "code",
   "execution_count": 67,
   "metadata": {},
   "outputs": [
    {
     "name": "stdout",
     "output_type": "stream",
     "text": [
      "Iteration\tTrain Accuracy\tTest Accuracy\n",
      "1\t\t0.9013\t\t0.9204\n",
      "2\t\t0.9167\t\t0.8673\n",
      "3\t\t0.9276\t\t0.8761\n",
      "4\t\t0.9145\t\t0.8673\n",
      "5\t\t0.9013\t\t0.9027\n",
      "6\t\t0.8991\t\t0.9204\n",
      "7\t\t0.9189\t\t0.9115\n",
      "8\t\t0.9123\t\t0.9204\n",
      "9\t\t0.9101\t\t0.9204\n",
      "10\t\t0.9145\t\t0.9027\n",
      "11\t\t0.8947\t\t0.9469\n",
      "12\t\t0.9079\t\t0.9204\n",
      "13\t\t0.9123\t\t0.9115\n",
      "14\t\t0.9079\t\t0.9027\n",
      "15\t\t0.9013\t\t0.9292\n",
      "16\t\t0.9145\t\t0.9027\n",
      "17\t\t0.9145\t\t0.9115\n",
      "18\t\t0.9232\t\t0.9027\n",
      "19\t\t0.9035\t\t0.9204\n",
      "20\t\t0.9276\t\t0.8673\n",
      "21\t\t0.9145\t\t0.9115\n",
      "22\t\t0.9211\t\t0.8938\n",
      "23\t\t0.9167\t\t0.8938\n",
      "24\t\t0.9123\t\t0.8850\n",
      "25\t\t0.8969\t\t0.9469\n",
      "26\t\t0.9123\t\t0.8673\n",
      "27\t\t0.8991\t\t0.9115\n",
      "28\t\t0.9232\t\t0.8938\n",
      "29\t\t0.8925\t\t0.9558\n",
      "30\t\t0.9232\t\t0.8850\n",
      "\n",
      "Final Performance Analysis:\n",
      "Accuracy Score for Final Training Performance: 0.9232\n",
      "\n",
      "Confusion Matrix for Final Training Performance:\n",
      "[[277   9]\n",
      " [ 26 144]]\n"
     ]
    },
    {
     "data": {
      "image/png": "[encoded data removed]",
      "text/plain": [
       "<Figure size 800x600 with 1 Axes>"
      ]
     },
     "metadata": {},
     "output_type": "display_data"
    },
    {
     "name": "stdout",
     "output_type": "stream",
     "text": [
      "Accuracy Score for Final Testing Performance: 0.8850\n",
      "\n",
      "Confusion Matrix for Final Testing Performance:\n",
      "[[68  3]\n",
      " [10 32]]\n"
     ]
    },
    {
     "data": {
      "image/png": "[encoded data removed]",
      "text/plain": [
       "<Figure size 800x600 with 1 Axes>"
      ]
     },
     "metadata": {},
     "output_type": "display_data"
    },
    {
     "name": "stdout",
     "output_type": "stream",
     "text": [
      "\n",
      "Summary of Average Metrics:\n"
     ]
    },
    {
     "data": {
      "text/html": [
       "<div>\n",
       "<style scoped>\n",
       "    .dataframe tbody tr th:only-of-type {\n",
       "        vertical-align: middle;\n",
       "    }\n",
       "\n",
       "    .dataframe tbody tr th {\n",
       "        vertical-align: top;\n",
       "    }\n",
       "\n",
       "    .dataframe thead th {\n",
       "        text-align: right;\n",
       "    }\n",
       "</style>\n",
       "<table border=\"1\" class=\"dataframe\">\n",
       "  <thead>\n",
       "    <tr style=\"text-align: right;\">\n",
       "      <th></th>\n",
       "      <th>Train Average</th>\n",
       "      <th>Test Average</th>\n",
       "    </tr>\n",
       "  </thead>\n",
       "  <tbody>\n",
       "    <tr>\n",
       "      <th>Accuracy</th>\n",
       "      <td>0.9112</td>\n",
       "      <td>0.9056</td>\n",
       "    </tr>\n",
       "    <tr>\n",
       "      <th>Precision</th>\n",
       "      <td>0.9268</td>\n",
       "      <td>0.9169</td>\n",
       "    </tr>\n",
       "    <tr>\n",
       "      <th>Recall</th>\n",
       "      <td>0.8275</td>\n",
       "      <td>0.8214</td>\n",
       "    </tr>\n",
       "    <tr>\n",
       "      <th>F1_score</th>\n",
       "      <td>0.8742</td>\n",
       "      <td>0.8654</td>\n",
       "    </tr>\n",
       "    <tr>\n",
       "      <th>Auc</th>\n",
       "      <td>0.9747</td>\n",
       "      <td>0.9726</td>\n",
       "    </tr>\n",
       "  </tbody>\n",
       "</table>\n",
       "</div>"
      ],
      "text/plain": [
       "           Train Average  Test Average\n",
       "Accuracy          0.9112        0.9056\n",
       "Precision         0.9268        0.9169\n",
       "Recall            0.8275        0.8214\n",
       "F1_score          0.8742        0.8654\n",
       "Auc               0.9747        0.9726"
      ]
     },
     "metadata": {},
     "output_type": "display_data"
    }
   ],
   "source": [
    "summary_kmeans = run_kmeans_unsupervised(df, iters=30, random_state=42, method=\"kmeans\")"
   ]
  },
  {
   "cell_type": "markdown",
   "metadata": {},
   "source": [
    "#### (iv) Spectral Clustering"
   ]
  },
  {
   "cell_type": "code",
   "execution_count": 70,
   "metadata": {},
   "outputs": [
    {
     "name": "stdout",
     "output_type": "stream",
     "text": [
      "Iteration\tTrain Accuracy\tTest Accuracy\n",
      "1\t\t0.6316\t\t0.6283\n",
      "2\t\t0.6316\t\t0.6283\n",
      "3\t\t0.6272\t\t0.6283\n",
      "4\t\t0.6316\t\t0.6283\n",
      "5\t\t0.6316\t\t0.6283\n",
      "6\t\t0.6316\t\t0.6283\n",
      "7\t\t0.6272\t\t0.6283\n",
      "8\t\t0.6272\t\t0.6283\n",
      "9\t\t0.6316\t\t0.6283\n",
      "10\t\t0.6316\t\t0.6283\n",
      "11\t\t0.6294\t\t0.6372\n",
      "12\t\t0.6272\t\t0.6283\n",
      "13\t\t0.6294\t\t0.6372\n",
      "14\t\t0.6272\t\t0.6283\n",
      "15\t\t0.6316\t\t0.6283\n",
      "16\t\t0.6272\t\t0.6283\n",
      "17\t\t0.6294\t\t0.6372\n",
      "18\t\t0.6294\t\t0.6372\n",
      "19\t\t0.6316\t\t0.6283\n",
      "20\t\t0.6294\t\t0.6372\n",
      "21\t\t0.6294\t\t0.6372\n",
      "22\t\t0.6294\t\t0.6372\n",
      "23\t\t0.6316\t\t0.6283\n",
      "24\t\t0.6316\t\t0.6283\n",
      "25\t\t0.6316\t\t0.6283\n",
      "26\t\t0.6316\t\t0.6283\n",
      "27\t\t0.6316\t\t0.6283\n",
      "28\t\t0.6294\t\t0.6372\n",
      "29\t\t0.6316\t\t0.6283\n",
      "30\t\t0.6601\t\t0.6814\n",
      "\n",
      "Final Performance Analysis:\n",
      "Accuracy Score for Final Training Performance: 0.6601\n",
      "\n",
      "Confusion Matrix for Final Training Performance:\n",
      "[[286   0]\n",
      " [155  15]]\n"
     ]
    },
    {
     "data": {
      "image/png": "[encoded data removed]",
      "text/plain": [
       "<Figure size 800x600 with 1 Axes>"
      ]
     },
     "metadata": {},
     "output_type": "display_data"
    },
    {
     "name": "stdout",
     "output_type": "stream",
     "text": [
      "Accuracy Score for Final Testing Performance: 0.6814\n",
      "\n",
      "Confusion Matrix for Final Testing Performance:\n",
      "[[71  0]\n",
      " [36  6]]\n"
     ]
    },
    {
     "data": {
      "image/png": "[encoded data removed]",
      "text/plain": [
       "<Figure size 800x600 with 1 Axes>"
      ]
     },
     "metadata": {},
     "output_type": "display_data"
    },
    {
     "name": "stdout",
     "output_type": "stream",
     "text": [
      "\n",
      "Summary of Average Metrics:\n"
     ]
    },
    {
     "data": {
      "text/html": [
       "<div>\n",
       "<style scoped>\n",
       "    .dataframe tbody tr th:only-of-type {\n",
       "        vertical-align: middle;\n",
       "    }\n",
       "\n",
       "    .dataframe tbody tr th {\n",
       "        vertical-align: top;\n",
       "    }\n",
       "\n",
       "    .dataframe thead th {\n",
       "        text-align: right;\n",
       "    }\n",
       "</style>\n",
       "<table border=\"1\" class=\"dataframe\">\n",
       "  <thead>\n",
       "    <tr style=\"text-align: right;\">\n",
       "      <th></th>\n",
       "      <th>Train Average</th>\n",
       "      <th>Test Average</th>\n",
       "    </tr>\n",
       "  </thead>\n",
       "  <tbody>\n",
       "    <tr>\n",
       "      <th>Accuracy</th>\n",
       "      <td>0.6311</td>\n",
       "      <td>0.6324</td>\n",
       "    </tr>\n",
       "    <tr>\n",
       "      <th>Precision</th>\n",
       "      <td>0.8000</td>\n",
       "      <td>0.3000</td>\n",
       "    </tr>\n",
       "    <tr>\n",
       "      <th>Recall</th>\n",
       "      <td>0.0104</td>\n",
       "      <td>0.0111</td>\n",
       "    </tr>\n",
       "    <tr>\n",
       "      <th>F1_score</th>\n",
       "      <td>0.0202</td>\n",
       "      <td>0.0207</td>\n",
       "    </tr>\n",
       "    <tr>\n",
       "      <th>Auc</th>\n",
       "      <td>0.8951</td>\n",
       "      <td>0.3748</td>\n",
       "    </tr>\n",
       "  </tbody>\n",
       "</table>\n",
       "</div>"
      ],
      "text/plain": [
       "           Train Average  Test Average\n",
       "Accuracy          0.6311        0.6324\n",
       "Precision         0.8000        0.3000\n",
       "Recall            0.0104        0.0111\n",
       "F1_score          0.0202        0.0207\n",
       "Auc               0.8951        0.3748"
      ]
     },
     "metadata": {},
     "output_type": "display_data"
    }
   ],
   "source": [
    "summary_kmeans_spectral = run_kmeans_unsupervised(df, iters=30, random_state=42, method=\"spectral\")"
   ]
  },
  {
   "cell_type": "markdown",
   "metadata": {},
   "source": [
    "#### (iv) Compare"
   ]
  },
  {
   "cell_type": "code",
   "execution_count": 71,
   "metadata": {},
   "outputs": [
    {
     "name": "stdout",
     "output_type": "stream",
     "text": [
      "supervised\n",
      "               Accuracy  Precision  Recall  F1_score     Auc\n",
      "Train Average    0.9859     0.9930  0.9690    0.9808  0.9968\n",
      "Test Average     0.9752     0.9848  0.9484    0.9659  0.9941\n",
      "\n",
      "===============================================================================\n",
      "semi-supervised\n",
      "               Accuracy  Precision  Recall  F1_score     Auc\n",
      "Train Average    0.9760     0.9813  0.9539    0.9672  0.9946\n",
      "Test Average     0.9652     0.9702  0.9357    0.9522  0.9902\n",
      "\n",
      "===============================================================================\n",
      "kmeans\n",
      "               Accuracy  Precision  Recall  F1_score     Auc\n",
      "Train Average    0.9112     0.9268  0.8275    0.8742  0.9747\n",
      "Test Average     0.9056     0.9169  0.8214    0.8654  0.9726\n",
      "\n",
      "===============================================================================\n",
      "spectral\n",
      "               Accuracy  Precision  Recall  F1_score     Auc\n",
      "Train Average    0.6311        0.8  0.0104    0.0202  0.8951\n",
      "Test Average     0.6324        0.3  0.0111    0.0207  0.3748\n"
     ]
    }
   ],
   "source": [
    "df_summary_kmeans = pd.DataFrame([summary_kmeans]) if isinstance(summary_kmeans, dict) else summary_kmeans\n",
    "df_summary_kmeans_spectral = pd.DataFrame([summary_kmeans_spectral]) if isinstance(summary_kmeans_spectral, dict) else summary_kmeans_spectral\n",
    "df_supervised_results = pd.DataFrame(supervised_results) if isinstance(supervised_results, list) else supervised_results\n",
    "df_semi_supervised_results = pd.DataFrame(semi_supervised_results) if isinstance(semi_supervised_results, list) else semi_supervised_results\n",
    "\n",
    "df_semi_supervised_results_transposed = df_semi_supervised_results.T\n",
    "df_summary_kmeans_transposed = df_summary_kmeans.T\n",
    "df_summary_kmeans_spectral_transposed = df_summary_kmeans_spectral.T\n",
    "df_supervised_results_transposed = df_supervised_results.T\n",
    "\n",
    "print(\"supervised\")\n",
    "print(df_supervised_results_transposed)\n",
    "print(\"\\n===============================================================================\")\n",
    "print(\"semi-supervised\")\n",
    "print(df_semi_supervised_results_transposed)\n",
    "print(\"\\n===============================================================================\")\n",
    "print(\"kmeans\")\n",
    "print(df_summary_kmeans_transposed)\n",
    "print(\"\\n===============================================================================\")\n",
    "print(\"spectral\")\n",
    "print(df_summary_kmeans_spectral_transposed)"
   ]
  },
  {
   "cell_type": "markdown",
   "metadata": {},
   "source": [
    "From the comparison above, it is evident that supervised and semi-supervised learning methods significantly outperform unsupervised and spectral clustering methods. While unsupervised methods are less effective, they still provide a baseline for classification without labeled data. In terms of accuracy, the ranking is as follows: supervised learning achieves the highest performance, followed by semi-supervised learning, unsupervised learning, and finally spectral clustering, which exhibits the weakest performance."
   ]
  },
  {
   "cell_type": "markdown",
   "metadata": {},
   "source": [
    "## 2. Active Learning Using Support Vector Machines"
   ]
  },
  {
   "cell_type": "markdown",
   "metadata": {},
   "source": [
    "### (a) Download the banknote authentication Data Set"
   ]
  },
  {
   "cell_type": "code",
   "execution_count": null,
   "metadata": {},
   "outputs": [],
   "source": [
    "sed 's/ \\+/,/g' data_banknote_authentication.data > data_banknote_authentication.csv"
   ]
  },
  {
   "cell_type": "code",
   "execution_count": 129,
   "metadata": {},
   "outputs": [
    {
     "data": {
      "text/html": [
       "<div>\n",
       "<style scoped>\n",
       "    .dataframe tbody tr th:only-of-type {\n",
       "        vertical-align: middle;\n",
       "    }\n",
       "\n",
       "    .dataframe tbody tr th {\n",
       "        vertical-align: top;\n",
       "    }\n",
       "\n",
       "    .dataframe thead th {\n",
       "        text-align: right;\n",
       "    }\n",
       "</style>\n",
       "<table border=\"1\" class=\"dataframe\">\n",
       "  <thead>\n",
       "    <tr style=\"text-align: right;\">\n",
       "      <th></th>\n",
       "      <th>variance</th>\n",
       "      <th>skewness</th>\n",
       "      <th>curtosis</th>\n",
       "      <th>entropy</th>\n",
       "      <th>class</th>\n",
       "    </tr>\n",
       "  </thead>\n",
       "  <tbody>\n",
       "    <tr>\n",
       "      <th>0</th>\n",
       "      <td>3.62160</td>\n",
       "      <td>8.6661</td>\n",
       "      <td>-2.8073</td>\n",
       "      <td>-0.44699</td>\n",
       "      <td>0</td>\n",
       "    </tr>\n",
       "    <tr>\n",
       "      <th>1</th>\n",
       "      <td>4.54590</td>\n",
       "      <td>8.1674</td>\n",
       "      <td>-2.4586</td>\n",
       "      <td>-1.46210</td>\n",
       "      <td>0</td>\n",
       "    </tr>\n",
       "    <tr>\n",
       "      <th>2</th>\n",
       "      <td>3.86600</td>\n",
       "      <td>-2.6383</td>\n",
       "      <td>1.9242</td>\n",
       "      <td>0.10645</td>\n",
       "      <td>0</td>\n",
       "    </tr>\n",
       "    <tr>\n",
       "      <th>3</th>\n",
       "      <td>3.45660</td>\n",
       "      <td>9.5228</td>\n",
       "      <td>-4.0112</td>\n",
       "      <td>-3.59440</td>\n",
       "      <td>0</td>\n",
       "    </tr>\n",
       "    <tr>\n",
       "      <th>4</th>\n",
       "      <td>0.32924</td>\n",
       "      <td>-4.4552</td>\n",
       "      <td>4.5718</td>\n",
       "      <td>-0.98880</td>\n",
       "      <td>0</td>\n",
       "    </tr>\n",
       "  </tbody>\n",
       "</table>\n",
       "</div>"
      ],
      "text/plain": [
       "   variance  skewness  curtosis  entropy  class\n",
       "0   3.62160    8.6661   -2.8073 -0.44699      0\n",
       "1   4.54590    8.1674   -2.4586 -1.46210      0\n",
       "2   3.86600   -2.6383    1.9242  0.10645      0\n",
       "3   3.45660    9.5228   -4.0112 -3.59440      0\n",
       "4   0.32924   -4.4552    4.5718 -0.98880      0"
      ]
     },
     "execution_count": 129,
     "metadata": {},
     "output_type": "execute_result"
    }
   ],
   "source": [
    "df_2 = pd.read_csv(\"./data/data_banknote_authentication.csv\", header = None)\n",
    "df_2.columns = ['variance', 'skewness', 'curtosis', 'entropy', 'class']\n",
    "df_2.head()\n",
    "#print(df_2.shape[0])"
   ]
  },
  {
   "cell_type": "code",
   "execution_count": 130,
   "metadata": {},
   "outputs": [
    {
     "name": "stdout",
     "output_type": "stream",
     "text": [
      "1372\n"
     ]
    }
   ],
   "source": [
    "print(df_2.shape[0])"
   ]
  },
  {
   "cell_type": "code",
   "execution_count": 131,
   "metadata": {},
   "outputs": [],
   "source": [
    "def random_split_data(df_train):    \n",
    "    test_index = np.random.choice(1372, 472, replace = False)\n",
    "    temp_list = []\n",
    "    for i in range(df_train.shape[0]):\n",
    "        if i not in test_index:\n",
    "            temp_list.append(i); \n",
    "    train_index = np.array(temp_list)\n",
    "    x_train = df_train.iloc[train_index]\n",
    "    x_test = df_train.iloc[test_index]\n",
    "    return x_train, x_test"
   ]
  },
  {
   "cell_type": "markdown",
   "metadata": {},
   "source": [
    "### (b) Repeat each of the following two procedures 50 times"
   ]
  },
  {
   "cell_type": "markdown",
   "metadata": {},
   "source": [
    "#### (i) Passive"
   ]
  },
  {
   "cell_type": "code",
   "execution_count": 132,
   "metadata": {},
   "outputs": [],
   "source": [
    "def passive_learning(x_train, y_train, x_test, y_test, kwargs):\n",
    "    all_index = np.arange(x_train.shape[0])\n",
    "    new_index, accuracy = [], []\n",
    "    # randomly select 10 samples from the pool\n",
    "    while len(all_index) > 0:\n",
    "        np.random.shuffle(all_index)\n",
    "        pool, all_index = all_index[:10], all_index[10:]\n",
    "        new_index.extend(pool)\n",
    "        x_train_new, y_train_new = x_train.iloc[new_index], y_train.iloc[new_index]\n",
    "        # parameter grid for LinearSVC\n",
    "        model = GridSearchCV(\n",
    "            estimator=LinearSVC(penalty='l1', dual=False),\n",
    "            param_grid=kwargs['param_grid'],\n",
    "            scoring=kwargs['scoring'],\n",
    "            n_jobs=1,  # Disable parallelism\n",
    "            cv=StratifiedKFold(5, shuffle=True, random_state=42)\n",
    "        )\n",
    "        model.fit(x_train_new, y_train_new)\n",
    "        predictions = model.predict(x_test)\n",
    "        result = classification_report(y_test, predictions, output_dict=True)\n",
    "        accuracy.append(result['accuracy'])\n",
    "    return accuracy"
   ]
  },
  {
   "cell_type": "code",
   "execution_count": 133,
   "metadata": {},
   "outputs": [],
   "source": [
    "def active_learning(x_train, y_train, x_test, y_test, kwargs):\n",
    "    all_indices = np.arange(x_train.shape[0])\n",
    "    selected_indices = []\n",
    "    accuracies = []\n",
    "    # randomly initialize the pool with 10 samples\n",
    "    np.random.shuffle(all_indices)\n",
    "    pool, all_indices = all_indices[:10], all_indices[10:]\n",
    "    selected_indices.extend(pool)\n",
    "    # learning loop until all samples are selected\n",
    "    while len(selected_indices) <= 900:\n",
    "        x_train_pool = x_train.iloc[selected_indices]\n",
    "        y_train_pool = y_train.iloc[selected_indices]\n",
    "        # parameter grid for LinearSVC\n",
    "        model = GridSearchCV(\n",
    "            estimator=LinearSVC(penalty='l1', dual=False),\n",
    "            param_grid=kwargs['param_grid'],\n",
    "            scoring=kwargs['scoring'],\n",
    "            n_jobs=1,  # to avoid parallelism\n",
    "            cv=StratifiedKFold(5, shuffle=True, random_state=42)\n",
    "        )\n",
    "        model.fit(x_train_pool, y_train_pool)\n",
    "        predictions = model.predict(x_test)\n",
    "        report = classification_report(y_test, predictions, output_dict=True)\n",
    "        accuracies.append(report['accuracy'])\n",
    "        # exit if all samples are already selected\n",
    "        if len(all_indices) == 0:\n",
    "            break\n",
    "        # decision function to find samples closest to the hyperplane\n",
    "        decision_function = model.decision_function(x_train.iloc[all_indices])\n",
    "        sorted_indices = np.argsort(np.abs(decision_function))[:10]  # top 10 closest to the decision boundary\n",
    "        pool = all_indices[sorted_indices]\n",
    "        all_indices = np.delete(all_indices, sorted_indices)\n",
    "        # add the new samples to the training pool\n",
    "        selected_indices.extend(pool)\n",
    "    return accuracies\n"
   ]
  },
  {
   "cell_type": "code",
   "execution_count": 134,
   "metadata": {},
   "outputs": [],
   "source": [
    "# controller function for active and passive learning\n",
    "def monte_carlo(df_train, iters, _type):\n",
    "    kwargs = {\n",
    "        'param_grid': {'C': np.logspace(-2, 3, 10)},  #reduced parameters\n",
    "        'scoring': 'accuracy',\n",
    "        'cv': StratifiedKFold(5, shuffle=True, random_state=42),\n",
    "        'n_jobs': -1  \n",
    "    }\n",
    "    learning_curve = []\n",
    "    print('Iteration\\tTrain Accuracy\\tTest Accuracy')\n",
    "    # for 50 iteratons\n",
    "    for i in range(iters):\n",
    "        df_train_new, df_test_new = random_split_data(df_train)\n",
    "        x_train, y_train = df_train_new.iloc[:, :-1], df_train_new.iloc[:, -1]\n",
    "        x_test, y_test = df_test_new.iloc[:, :-1], df_test_new.iloc[:, -1]\n",
    "        x_train, x_test = normalize_data(x_train, x_test)\n",
    "        x_train, x_test = pd.DataFrame(x_train), pd.DataFrame(x_test)\n",
    "        # condition for active and passive learning\n",
    "        if _type == 'passive':\n",
    "            accuracy = passive_learning(x_train, y_train, x_test, y_test, kwargs)\n",
    "        else:\n",
    "            accuracy = active_learning(x_train, y_train, x_test, y_test, kwargs)\n",
    "        # add accuracy to learning curve\n",
    "        learning_curve.append(accuracy)\n",
    "        print(f'{i + 1}\\t\\t{round(accuracy[0], 4)}\\t\\t{round(accuracy[-1], 4)}')\n",
    "    learning_curve = np.mean(np.array(learning_curve), axis=0)\n",
    "    return learning_curve"
   ]
  },
  {
   "cell_type": "code",
   "execution_count": 123,
   "metadata": {},
   "outputs": [
    {
     "name": "stdout",
     "output_type": "stream",
     "text": [
      "Iteration\tTrain Accuracy\tTest Accuracy\n",
      "1\t\t0.9068\t\t0.9915\n",
      "2\t\t0.9047\t\t0.9936\n",
      "3\t\t0.7352\t\t0.9831\n",
      "4\t\t0.9534\t\t0.9894\n",
      "5\t\t0.875\t\t0.9873\n",
      "6\t\t0.8411\t\t0.9809\n",
      "7\t\t0.8665\t\t0.9831\n",
      "8\t\t0.7246\t\t0.9915\n",
      "9\t\t0.8708\t\t0.9958\n",
      "10\t\t0.9025\t\t0.9979\n",
      "11\t\t0.9195\t\t0.9915\n",
      "12\t\t0.5593\t\t0.9809\n",
      "13\t\t0.8941\t\t0.9915\n",
      "14\t\t0.9852\t\t0.9936\n",
      "15\t\t0.8496\t\t0.9915\n",
      "16\t\t0.553\t\t0.9894\n",
      "17\t\t0.8983\t\t0.9852\n",
      "18\t\t0.8093\t\t0.9852\n",
      "19\t\t0.8581\t\t0.9873\n",
      "20\t\t0.5593\t\t0.9894\n",
      "21\t\t0.9407\t\t0.9852\n",
      "22\t\t0.9915\t\t0.9936\n",
      "23\t\t0.5466\t\t0.9873\n",
      "24\t\t0.9174\t\t0.9894\n",
      "25\t\t0.8114\t\t0.9831\n",
      "26\t\t0.8475\t\t0.9894\n",
      "27\t\t0.536\t\t0.9873\n",
      "28\t\t0.8093\t\t0.9894\n",
      "29\t\t0.7606\t\t0.9894\n",
      "30\t\t0.8517\t\t0.9852\n",
      "31\t\t0.8475\t\t0.9894\n",
      "32\t\t0.9386\t\t0.9809\n",
      "33\t\t0.8792\t\t0.9958\n",
      "34\t\t0.8453\t\t0.9894\n",
      "35\t\t0.553\t\t0.9873\n",
      "36\t\t0.8199\t\t0.9894\n",
      "37\t\t0.8517\t\t0.9894\n",
      "38\t\t0.964\t\t0.9873\n",
      "39\t\t0.6886\t\t0.9894\n",
      "40\t\t0.8326\t\t0.9958\n",
      "41\t\t0.9682\t\t0.9767\n",
      "42\t\t0.8496\t\t0.9873\n",
      "43\t\t0.8602\t\t0.9936\n",
      "44\t\t0.8263\t\t0.9936\n",
      "45\t\t0.9513\t\t0.9894\n",
      "46\t\t0.8475\t\t0.9873\n",
      "47\t\t0.8729\t\t0.9894\n",
      "48\t\t0.8559\t\t0.9831\n",
      "49\t\t0.9746\t\t0.9852\n",
      "50\t\t0.9809\t\t0.9915\n"
     ]
    }
   ],
   "source": [
    "passive_curve = monte_carlo(df_2, iters=50, _type='passive')"
   ]
  },
  {
   "cell_type": "markdown",
   "metadata": {},
   "source": [
    "#### (ii) Active"
   ]
  },
  {
   "cell_type": "code",
   "execution_count": 124,
   "metadata": {},
   "outputs": [
    {
     "name": "stdout",
     "output_type": "stream",
     "text": [
      "Iteration\tTrain Accuracy\tTest Accuracy\n",
      "1\t\t0.8496\t\t0.9936\n",
      "2\t\t0.8581\t\t0.9958\n",
      "3\t\t0.8496\t\t0.9725\n",
      "4\t\t0.9004\t\t0.9936\n",
      "5\t\t0.8432\t\t0.9915\n",
      "6\t\t0.8347\t\t0.9852\n",
      "7\t\t0.8581\t\t0.9936\n",
      "8\t\t0.803\t\t0.9873\n",
      "9\t\t0.9025\t\t0.9852\n",
      "10\t\t0.8581\t\t0.9873\n",
      "11\t\t0.9661\t\t0.9915\n",
      "12\t\t0.8559\t\t0.9873\n",
      "13\t\t0.5487\t\t0.9915\n",
      "14\t\t0.8432\t\t0.9958\n",
      "15\t\t0.8347\t\t0.9852\n",
      "16\t\t0.8602\t\t0.9936\n",
      "17\t\t0.9237\t\t0.9915\n",
      "18\t\t0.6271\t\t0.9915\n",
      "19\t\t0.8517\t\t0.9894\n",
      "20\t\t0.8538\t\t0.9936\n",
      "21\t\t0.9619\t\t0.9873\n",
      "22\t\t0.9534\t\t0.9915\n",
      "23\t\t0.8411\t\t0.9873\n",
      "24\t\t0.9597\t\t0.9873\n",
      "25\t\t0.9258\t\t0.9873\n",
      "26\t\t0.947\t\t0.9936\n",
      "27\t\t0.9703\t\t0.9852\n",
      "28\t\t0.8538\t\t0.9936\n",
      "29\t\t0.9089\t\t0.9915\n",
      "30\t\t0.8475\t\t0.9915\n",
      "31\t\t0.8729\t\t0.9915\n",
      "32\t\t0.7839\t\t0.9915\n",
      "33\t\t0.8771\t\t0.9936\n",
      "34\t\t0.5508\t\t0.9831\n",
      "35\t\t0.8453\t\t0.9958\n",
      "36\t\t0.9195\t\t0.9873\n",
      "37\t\t0.8538\t\t0.9936\n",
      "38\t\t0.8496\t\t0.9936\n",
      "39\t\t0.8496\t\t0.9894\n",
      "40\t\t0.7203\t\t0.9936\n",
      "41\t\t0.8114\t\t0.9936\n",
      "42\t\t0.8538\t\t0.9873\n",
      "43\t\t0.8093\t\t0.9894\n",
      "44\t\t0.8453\t\t0.9682\n",
      "45\t\t0.8432\t\t0.9915\n",
      "46\t\t0.786\t\t0.9936\n",
      "47\t\t0.8623\t\t0.9894\n",
      "48\t\t0.7987\t\t0.9873\n",
      "49\t\t0.9216\t\t0.9894\n",
      "50\t\t0.8581\t\t0.9915\n"
     ]
    }
   ],
   "source": [
    "active_curve = monte_carlo(df_2, iters=50, _type='active')"
   ]
  },
  {
   "cell_type": "markdown",
   "metadata": {},
   "source": [
    "### (c) Average the 50 test errors"
   ]
  },
  {
   "cell_type": "code",
   "execution_count": 125,
   "metadata": {},
   "outputs": [],
   "source": [
    "def plot_learning_curve(active, passive):\n",
    "    _, ax = plt.subplots(figsize=(8, 6))\n",
    "    x = 10 * np.arange(1, len(passive) + 1)\n",
    "    ax.plot(x, 1 - np.array(passive), label='Passive Learning', marker='o', color= 'red')\n",
    "    ax.plot(x, 1 - np.array(active), label='Active Learning', marker='x', color='blue')\n",
    "    ax.set_title('Learning Curve')\n",
    "    ax.set_xlabel('Training Pool Size')\n",
    "    ax.set_ylabel('Test Error')\n",
    "    ax.legend()\n",
    "    plt.grid()\n",
    "    plt.show()"
   ]
  },
  {
   "cell_type": "code",
   "execution_count": 126,
   "metadata": {},
   "outputs": [
    {
     "data": {
      "image/png": "[encoded data removed]",
      "text/plain": [
       "<Figure size 800x600 with 1 Axes>"
      ]
     },
     "metadata": {},
     "output_type": "display_data"
    }
   ],
   "source": [
    "plot_learning_curve(active_curve, passive_curve)"
   ]
  },
  {
   "cell_type": "markdown",
   "metadata": {},
   "source": [
    "From the plot above, active learning proves to be highly efficient in reducing test error with fewer labeled data points, particularly in the initial stages of the learning process. In contrast, passive learning requires substantially more labeled data to achieve similar performance. Therefore, active learning is more advantageous when data labeling is expensive or resource-intensive."
   ]
  },
  {
   "cell_type": "markdown",
   "metadata": {},
   "source": [
    "### Citations \n",
    "- https://stackoverflow.com/questions/37405865/convert-txt-to-csv-in-shell\n",
    "- https://mohitmishra786687.medium.com/the-curse-of-local-minima-how-to-escape-and-find-the-global-minimum-fdabceb2cd6a#:~:text=Change%20the%20learning%20rate%3A%20A,effective%20at%20avoiding%20local%20minima.\n",
    "- https://stackoverflow.com/questions/54240144/distance-between-nodes-and-the-centroid-in-a-kmeans-cluster\n",
    "- https://stackoverflow.com/questions/50491630/randomly-split-a-numpy-array\n",
    "- https://pytorch.org/docs/stable/generated/torch.nn.Softmax.html\n",
    "- https://blog.mindresearch.org/blog/active-learning\n",
    "- https://pmc.ncbi.nlm.nih.gov/articles/PMC6765278/#:~:text=Students%20learn%20more%20when%20they,courses%20(1–6)\n",
    "- https://neptune.ai/blog/monte-carlo-simulation\n",
    "- https://www.geeksforgeeks.org/supervised-unsupervised-learning/\n"
   ]
  },
  {
   "cell_type": "markdown",
   "metadata": {},
   "source": [
    "### ChatGPT Prompt & Responses"
   ]
  },
  {
   "cell_type": "markdown",
   "metadata": {},
   "source": [
    "prompt: I am trying to train an L1 penalized SBM to classify the data, that uses 5-fold cross validation to choose penalty param. give me syntax.  "
   ]
  },
  {
   "cell_type": "code",
   "execution_count": null,
   "metadata": {},
   "outputs": [],
   "source": [
    "from sklearn.svm import LinearSVC\n",
    "from sklearn.model_selection import GridSearchCV, StratifiedKFold\n",
    "from sklearn.metrics import classification_report\n",
    "\n",
    "# Define the parameter grid for the penalty parameter (C)\n",
    "param_grid = {'C': np.logspace(-3, 3, 10)}  # Logarithmic scale for penalty parameter\n",
    "\n",
    "# Define the model with L1 penalty\n",
    "svm_model = LinearSVC(penalty='l1', dual=False, max_iter=10000)\n",
    "\n",
    "# Set up 5-fold cross-validation\n",
    "cv = StratifiedKFold(n_splits=5, shuffle=True, random_state=42)\n",
    "\n",
    "# Use GridSearchCV to find the best penalty parameter\n",
    "grid_search = GridSearchCV(\n",
    "    estimator=svm_model,\n",
    "    param_grid=param_grid,\n",
    "    scoring='accuracy',\n",
    "    cv=cv,\n",
    "    n_jobs=-1\n",
    ")\n",
    "\n",
    "# Train the model\n",
    "grid_search.fit(x_train, y_train)\n",
    "\n",
    "# Get the best model and penalty parameter\n",
    "best_model = grid_search.best_estimator_\n",
    "best_param = grid_search.best_params_['C']\n",
    "\n",
    "# Evaluate the model on the test set\n",
    "y_pred = best_model.predict(x_test)\n",
    "print(\"Classification Report:\")\n",
    "print(classification_report(y_test, y_pred))\n",
    "\n",
    "# Output the best penalty parameter\n",
    "print(f\"Best penalty parameter (C): {best_param}\")"
   ]
  },
  {
   "cell_type": "markdown",
   "metadata": {},
   "source": [
    "prompt: following upon the query above, i want to find unlabeled data point which is the fartest from the decsiiton bondary and add it to labeled data and retrian it. thus i want to continue this loop (use while loop) until all unlabeled data are used. give me syntax for it "
   ]
  },
  {
   "cell_type": "code",
   "execution_count": null,
   "metadata": {},
   "outputs": [],
   "source": [
    "from sklearn.svm import LinearSVC\n",
    "from sklearn.model_selection import GridSearchCV\n",
    "from sklearn.metrics import classification_report\n",
    "import numpy as np\n",
    "import pandas as pd\n",
    "\n",
    "def run_svm(X_labeled, y_labeled, X_unlabeled, y_test, X_test, param_grid, random_state=None):\n",
    "    \"\"\"\n",
    "    Train an L1-penalized SVM with active learning by adding the farthest point from the decision boundary.\n",
    "    \n",
    "    Args:\n",
    "        X_labeled (pd.DataFrame): Initial labeled feature set.\n",
    "        y_labeled (pd.Series): Initial labeled target set.\n",
    "        X_unlabeled (pd.DataFrame): Unlabeled feature set.\n",
    "        y_test (pd.Series): Test target set for evaluation.\n",
    "        X_test (pd.DataFrame): Test feature set for evaluation.\n",
    "        param_grid (dict): Grid for cross-validation hyperparameter tuning.\n",
    "        random_state (int, optional): Random state for reproducibility.\n",
    "        \n",
    "    Returns:\n",
    "        history (list): List of test accuracy scores at each iteration.\n",
    "    \"\"\"\n",
    "    if random_state is not None:\n",
    "        np.random.seed(random_state)\n",
    "    \n",
    "    history = []  # To store test accuracy at each iteration\n",
    "    unlabeled_indices = np.arange(X_unlabeled.shape[0])  # Track indices of the unlabeled set\n",
    "    \n",
    "    while len(unlabeled_indices) > 0:\n",
    "        # Step 1: Train the SVM with the labeled dataset\n",
    "        model = GridSearchCV(\n",
    "            estimator=LinearSVC(penalty='l1', dual=False, max_iter=5000),\n",
    "            param_grid=param_grid,\n",
    "            cv=5,\n",
    "            scoring='accuracy',\n",
    "            n_jobs=-1\n",
    "        )\n",
    "        model.fit(X_labeled, y_labeled)\n",
    "        \n",
    "        # Step 2: Predict decision function scores for the unlabeled set\n",
    "        decision_scores = model.decision_function(X_unlabeled)\n",
    "        # Find the farthest point from the decision boundary\n",
    "        farthest_idx = np.argmax(np.abs(decision_scores))\n",
    "        farthest_point = X_unlabeled.iloc[farthest_idx]\n",
    "        \n",
    "        # Step 3: Add the farthest point to the labeled set\n",
    "        X_labeled = pd.concat([X_labeled, farthest_point.to_frame().T], axis=0)\n",
    "        y_labeled = pd.concat([y_labeled, pd.Series([np.nan], index=[farthest_idx])], axis=0)\n",
    "        \n",
    "        # Remove the added point from the unlabeled set\n",
    "        X_unlabeled = X_unlabeled.drop(index=farthest_idx)\n",
    "        unlabeled_indices = np.delete(unlabeled_indices, farthest_idx)\n",
    "        \n",
    "        # Step 4: Evaluate the model on the test set\n",
    "        y_pred = model.predict(X_test)\n",
    "        test_accuracy = np.mean(y_pred == y_test)\n",
    "        history.append(test_accuracy)\n",
    "        \n",
    "        print(f\"Iteration {len(history)} - Test Accuracy: {test_accuracy:.4f}\")\n",
    "        \n",
    "    return history"
   ]
  },
  {
   "cell_type": "markdown",
   "metadata": {},
   "source": [
    "prompt: give me function that calculates the distance of each data points to the assigned cluster center and compute pseudo prob (proba) for two clusters. "
   ]
  },
  {
   "cell_type": "code",
   "execution_count": null,
   "metadata": {},
   "outputs": [],
   "source": [
    "import numpy as np\n",
    "from scipy.special import softmax\n",
    "\n",
    "def calculate_distances_and_pseudo_prob(X, centers, labels):\n",
    "    \"\"\"\n",
    "    Calculate distances of data points to their assigned cluster centers \n",
    "    and compute pseudo-probabilities for two clusters.\n",
    "\n",
    "    Parameters:\n",
    "    - X: np.ndarray of shape (n_samples, n_features)\n",
    "        The data points.\n",
    "    - centers: np.ndarray of shape (n_clusters, n_features)\n",
    "        The cluster centers.\n",
    "    - labels: np.ndarray of shape (n_samples,)\n",
    "        The cluster labels for each data point.\n",
    "\n",
    "    Returns:\n",
    "    - distances: np.ndarray of shape (n_samples,)\n",
    "        The distance of each data point to its assigned cluster center.\n",
    "    - pseudo_probabilities: np.ndarray of shape (n_samples, 2)\n",
    "        Pseudo-probabilities for each data point belonging to each cluster.\n",
    "    \"\"\"\n",
    "    n_samples = X.shape[0]\n",
    "    n_clusters = centers.shape[0]\n",
    "\n",
    "    if n_clusters != 2:\n",
    "        raise ValueError(\"This function is designed for two clusters only.\")\n",
    "\n",
    "    # Compute distances to both cluster centers\n",
    "    all_distances = np.zeros((n_samples, n_clusters))\n",
    "    for i, center in enumerate(centers):\n",
    "        all_distances[:, i] = np.linalg.norm(X - center, axis=1)\n",
    "\n",
    "    # Distance to the assigned cluster center\n",
    "    distances = np.array([all_distances[i, labels[i]] for i in range(n_samples)])\n",
    "\n",
    "    # Compute pseudo-probabilities using softmax on negative distances\n",
    "    pseudo_probabilities = softmax(-all_distances, axis=1)\n",
    "\n",
    "    return distances, pseudo_probabilities\n"
   ]
  },
  {
   "cell_type": "markdown",
   "metadata": {},
   "source": [
    "prompt: give me function for majority voting that majority poll becomes the label predicted by k-means for the members of each cluster, that it should read labels for 30 data ponts and take majority poll withn them. "
   ]
  },
  {
   "cell_type": "code",
   "execution_count": null,
   "metadata": {},
   "outputs": [],
   "source": [
    "import numpy as np\n",
    "from collections import Counter\n",
    "\n",
    "def majority_vote_with_nearest(labels, distances, true_labels, n_nearest=30):\n",
    "    \"\"\"\n",
    "    Assigns a majority label to each cluster based on the true labels\n",
    "    of the nearest `n_nearest` data points in each cluster.\n",
    "\n",
    "    Parameters:\n",
    "    - labels: np.ndarray of shape (n_samples,)\n",
    "        Cluster labels predicted by k-means for each data point.\n",
    "    - distances: np.ndarray of shape (n_samples,)\n",
    "        Distances of each data point to its cluster center.\n",
    "    - true_labels: np.ndarray of shape (n_samples,)\n",
    "        True labels of the data points.\n",
    "    - n_nearest: int, optional (default=30)\n",
    "        Number of nearest data points to consider for majority voting.\n",
    "\n",
    "    Returns:\n",
    "    - cluster_to_label: dict\n",
    "        A mapping of cluster index to the majority true label.\n",
    "    - updated_labels: np.ndarray of shape (n_samples,)\n",
    "        Updated labels for all data points based on the majority voting.\n",
    "    \"\"\"\n",
    "    unique_clusters = np.unique(labels)\n",
    "    cluster_to_label = {}\n",
    "    updated_labels = labels.copy()\n",
    "\n",
    "    for cluster in unique_clusters:\n",
    "        # Find indices of points in the current cluster\n",
    "        cluster_indices = np.where(labels == cluster)[0]\n",
    "\n",
    "        # Get distances for points in the cluster and sort by distance\n",
    "        cluster_distances = distances[cluster_indices]\n",
    "        nearest_indices = cluster_indices[np.argsort(cluster_distances)[:n_nearest]]\n",
    "\n",
    "        # Find true labels for the nearest points and compute the majority label\n",
    "        nearest_true_labels = true_labels[nearest_indices]\n",
    "        majority_label = Counter(nearest_true_labels).most_common(1)[0][0]\n",
    "\n",
    "        # Map the cluster to its majority label\n",
    "        cluster_to_label[cluster] = majority_label\n",
    "\n",
    "        # Update labels for all points in the cluster\n",
    "        updated_labels[cluster_indices] = majority_label\n",
    "\n",
    "    return cluster_to_label, updated_labels"
   ]
  },
  {
   "cell_type": "markdown",
   "metadata": {},
   "source": [
    "i am trying to split_data() which chooses 472 data points randomly as test and remainng 900 as training (total of 1372). need to repeat ths procedure 50 times, it should return x_train and x_test. thus use iloc method. give me syntax. "
   ]
  },
  {
   "cell_type": "code",
   "execution_count": null,
   "metadata": {},
   "outputs": [],
   "source": [
    "import numpy as np\n",
    "import pandas as pd\n",
    "\n",
    "def split_data(df, test_size=472, iterations=50, random_state=42):\n",
    "    \"\"\"\n",
    "    Splits the data into training and test sets multiple times using iloc.\n",
    "    \n",
    "    Args:\n",
    "        df (pd.DataFrame): The dataset to split.\n",
    "        test_size (int): Number of data points for the test set.\n",
    "        iterations (int): Number of times to repeat the split.\n",
    "        random_state (int): Seed for reproducibility.\n",
    "        \n",
    "    Returns:\n",
    "        splits (list): A list of tuples [(x_train1, x_test1), ..., (x_train50, x_test50)].\n",
    "    \"\"\"\n",
    "    np.random.seed(random_state)\n",
    "    splits = []\n",
    "    \n",
    "    for i in range(iterations):\n",
    "        # Randomly sample indices for the test set\n",
    "        test_indices = np.random.choice(df.index, size=test_size, replace=False)\n",
    "        train_indices = np.array([idx for idx in df.index if idx not in test_indices])\n",
    "        \n",
    "        # Split the data using iloc\n",
    "        x_test = df.iloc[test_indices]\n",
    "        x_train = df.iloc[train_indices]\n",
    "        splits.append((x_train, x_test))\n",
    "    \n",
    "    return splits\n",
    "\n",
    "# Example Usage:\n",
    "# Assuming `df` is your dataframe with 1372 data points\n",
    "splits = split_data(df, test_size=472, iterations=50, random_state=42)\n",
    "\n",
    "# Access the first split\n",
    "x_train_1, x_test_1 = splits[0]\n",
    "print(f\"x_train shape: {x_train_1.shape}\")\n",
    "print(f\"x_test shape: {x_test_1.shape}\")\n"
   ]
  },
  {
   "cell_type": "markdown",
   "metadata": {},
   "source": [
    "prompt: I am trying to write function for active_learning. it trains SVM with a pool of 10 randomly selected data points using 5-fold cross validation. choose 10 closest data points in training to hyperplane. it should give 90 SVMs that were trained using 10, 20, 30,..., 900 data points and their 90 test errors. give me syntax "
   ]
  },
  {
   "cell_type": "code",
   "execution_count": null,
   "metadata": {},
   "outputs": [],
   "source": [
    "import numpy as np\n",
    "from sklearn.svm import SVC\n",
    "from sklearn.model_selection import GridSearchCV, StratifiedKFold\n",
    "from sklearn.metrics import accuracy_score\n",
    "\n",
    "def active_learning(x_train, y_train, x_test, y_test, param_grid, random_state=42):\n",
    "    \"\"\"\n",
    "    Active learning implementation to train SVMs incrementally by selecting 10 closest points to the decision boundary.\n",
    "\n",
    "    Args:\n",
    "        x_train (pd.DataFrame): Training data features.\n",
    "        y_train (pd.Series): Training data labels.\n",
    "        x_test (pd.DataFrame): Test data features.\n",
    "        y_test (pd.Series): Test data labels.\n",
    "        param_grid (dict): Hyperparameter grid for SVM (e.g., {'C': [0.1, 1, 10]}).\n",
    "        random_state (int): Random seed for reproducibility.\n",
    "\n",
    "    Returns:\n",
    "        test_errors (list): List of test errors for 90 SVMs.\n",
    "    \"\"\"\n",
    "    np.random.seed(random_state)\n",
    "    test_errors = []\n",
    "    all_indices = np.arange(x_train.shape[0])\n",
    "    selected_indices = []\n",
    "\n",
    "    # Randomly select the first 10 data points\n",
    "    np.random.shuffle(all_indices)\n",
    "    pool, all_indices = all_indices[:10], all_indices[10:]\n",
    "    selected_indices.extend(pool)\n",
    "\n",
    "    while len(selected_indices) <= 900:\n",
    "        # Prepare training data with selected indices\n",
    "        x_train_pool = x_train.iloc[selected_indices]\n",
    "        y_train_pool = y_train.iloc[selected_indices]\n",
    "\n",
    "        # Train SVM with L1 penalty using 5-fold cross validation\n",
    "        model = GridSearchCV(\n",
    "            estimator=SVC(kernel=\"linear\", probability=True),\n",
    "            param_grid=param_grid,\n",
    "            scoring=\"accuracy\",\n",
    "            cv=StratifiedKFold(n_splits=5, shuffle=True, random_state=random_state),\n",
    "            n_jobs=-1\n",
    "        )\n",
    "        model.fit(x_train_pool, y_train_pool)\n",
    "\n",
    "        # Test the model on the test set\n",
    "        y_pred = model.predict(x_test)\n",
    "        test_error = 1 - accuracy_score(y_test, y_pred)\n",
    "        test_errors.append(test_error)\n",
    "\n",
    "        # If no data left in all_indices, break\n",
    "        if len(all_indices) == 0:\n",
    "            break\n",
    "\n",
    "        # Find the 10 closest points to the decision boundary\n",
    "        decision_values = model.decision_function(x_train.iloc[all_indices])\n",
    "        closest_indices = np.argsort(np.abs(decision_values))[:10]\n",
    "\n",
    "        # Update selected_indices and all_indices\n",
    "        pool = all_indices[closest_indices]\n",
    "        all_indices = np.delete(all_indices, closest_indices)\n",
    "        selected_indices.extend(pool)\n",
    "\n",
    "    return test_errors\n",
    "\n",
    "# Example Usage:\n",
    "# Assuming `x_train`, `y_train`, `x_test`, `y_test` are preprocessed and defined\n",
    "param_grid = {'C': np.logspace(-3, 3, 7)}\n",
    "test_errors = active_learning(x_train, y_train, x_test, y_test, param_grid, random_state=42)\n",
    "\n",
    "# Print the test errors for each iteration\n",
    "print(\"Test Errors for Active Learning:\")\n",
    "print(test_errors)"
   ]
  }
 ],
 "metadata": {
  "kernelspec": {
   "display_name": "pycaret_env",
   "language": "python",
   "name": "pycaret_env"
  },
  "language_info": {
   "codemirror_mode": {
    "name": "ipython",
    "version": 3
   },
   "file_extension": ".py",
   "mimetype": "text/x-python",
   "name": "python",
   "nbconvert_exporter": "python",
   "pygments_lexer": "ipython3",
   "version": "3.7.4"
  },
  "orig_nbformat": 4
 },
 "nbformat": 4,
 "nbformat_minor": 2
}
